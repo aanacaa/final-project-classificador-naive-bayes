{
  "nbformat": 4,
  "nbformat_minor": 0,
  "metadata": {
    "colab": {
      "name": "CRIACAO-CLASSIFICADOR.py",
      "provenance": [],
      "collapsed_sections": [],
      "authorship_tag": "ABX9TyO26iwBp2s/zmQkhsJxWRSH",
      "include_colab_link": true
    },
    "kernelspec": {
      "name": "python3",
      "display_name": "Python 3"
    }
  },
  "cells": [
    {
      "cell_type": "markdown",
      "metadata": {
        "id": "view-in-github",
        "colab_type": "text"
      },
      "source": [
        "<a href=\"https://colab.research.google.com/github/aanacaa/final-project-classificador-naive-bayes/blob/master/CRIACAO_CLASSIFICADOR_py.ipynb\" target=\"_parent\"><img src=\"https://colab.research.google.com/assets/colab-badge.svg\" alt=\"Open In Colab\"/></a>"
      ]
    },
    {
      "cell_type": "markdown",
      "metadata": {
        "id": "pm79jkjxJs2W"
      },
      "source": [
        "Projeto Original entregue em 2018"
      ]
    },
    {
      "cell_type": "code",
      "metadata": {
        "id": "PN8Wmtc2_c1O"
      },
      "source": [
        "import nltk\n",
        "from nltk.classify import NaiveBayesClassifier\n",
        "from nltk.classify.util import accuracy\n",
        "from nltk.corpus import stopwords\n",
        "import pickle\n",
        "import string\n",
        "import random\n",
        "from cogroo_interface import Cogroo\n",
        "\n",
        "cogroo = Cogroo.Instance()\n",
        "\n",
        "def formatar_sentenca(arquivo):\n",
        "    #converte tudo para minusculo\n",
        "    arquivo = arquivo.lower()\n",
        "    # divide o arquivo por espaco\n",
        "    tokens = arquivo.split()\n",
        "    # remove a pontuacao de cada palavra\n",
        "    table = str.maketrans('', '', string.punctuation)\n",
        "    tokens = [w.translate(table) for w in tokens]\n",
        "    # remove tudo que nao for letra\n",
        "    tokens = [word for word in tokens if word.isalpha()]\n",
        "    # remove as \"stop words\"\n",
        "    stop_words = set(stopwords.words('portuguese'))\n",
        "    tokens = [w for w in tokens if not w in stop_words]\n",
        "    # transforma em root form as palavras, se necessario\n",
        "    tokens = [cogroo.lemmatize(p) for p in tokens]\n",
        "    # remove palavras com 2 letras ou menos\n",
        "    tokens = ({word: True for word in tokens if len(word) > 2})\n",
        "    \n",
        "    # retorna os tokens\n",
        "    return tokens\n",
        "\n",
        "# array para bag of words   \n",
        "bow = []\n",
        "\n",
        "# realiza leitura de sentencas positivas\n",
        "with open(\"positivo.txt\", encoding = \"utf8\") as f:\n",
        "    for i in f: \n",
        "        bow.append([formatar_sentenca(i), 'pos'])\n",
        "\n",
        "# realiza leitura de sentencas negativas\n",
        "with open(\"negativo.txt\", encoding = \"utf8\") as f:\n",
        "    for i in f: \n",
        "        bow.append([formatar_sentenca(i), 'neg'])\n",
        "\n",
        "# realiza um shuffle no \"Bag of words\"\n",
        "random.shuffle(bow)\n",
        "\n",
        "# Realiza o treinamento com 66% dos dados\n",
        "training = bow[:int((.66)*len(bow))]\n",
        "\n",
        "# Realiza o teste com 34% dos dados\n",
        "test = bow[int((.34)*len(bow)):]\n",
        " \n",
        "# Treinamento do classificador\n",
        "classifier = NaiveBayesClassifier.train(training)\n",
        "\n",
        "################################################################################################\n",
        "# Comandos abaixo sao responsaveis por gravar o classificador (a classificacao) ja realizada\n",
        "# e após a leitura deste numa nova sessao\n",
        "# \n",
        "# f = open('Classificador-500.pickle', 'wb')\n",
        "# pickle.dump(classifier, f)\n",
        "# f.close()\n",
        "\n",
        "# f = open('Classificador-500.pickle', 'rb')\n",
        "# classifier = pickle.load(f)\n",
        "# f.close()\n",
        "###############################################################################################ara sua forma exemplo = \"os momentos isolados de insanidade criativa finalmente se perdem na fina sopa de humor enlatado.\"\n",
        "\n",
        "print(classifier.classify(formatar_sentenca(exemplo)))\n",
        "\n",
        "classifier.show_most_informative_features()\n",
        "accuracy(classifier,test)\n"
      ],
      "execution_count": null,
      "outputs": []
    }
  ]
}