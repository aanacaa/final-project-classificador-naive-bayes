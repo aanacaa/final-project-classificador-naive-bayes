{
  "nbformat": 4,
  "nbformat_minor": 0,
  "metadata": {
    "colab": {
      "name": "CLASSIFICA-FRASE.py",
      "provenance": [],
      "authorship_tag": "ABX9TyPMnfHnfstvbS6OX8D8Hnui",
      "include_colab_link": true
    },
    "kernelspec": {
      "name": "python3",
      "display_name": "Python 3"
    }
  },
  "cells": [
    {
      "cell_type": "markdown",
      "metadata": {
        "id": "view-in-github",
        "colab_type": "text"
      },
      "source": [
        "<a href=\"https://colab.research.google.com/github/aanacaa/final-project-classificador-naive-bayes/blob/master/CLASSIFICA_FRASE_py.ipynb\" target=\"_parent\"><img src=\"https://colab.research.google.com/assets/colab-badge.svg\" alt=\"Open In Colab\"/></a>"
      ]
    },
    {
      "cell_type": "code",
      "metadata": {
        "id": "8TxyPUYTHp9U"
      },
      "source": [
        "import nltk\n",
        "from nltk.classify import NaiveBayesClassifier\n",
        "from nltk.classify.util import accuracy\n",
        "from nltk.corpus import stopwords\n",
        "from nltk.stem.porter import *\n",
        "import pickle\n",
        "import string\n",
        "import random\n",
        "from cogroo_interface import Cogroo\n",
        "\n",
        "cogroo = Cogroo.Instance()\n",
        "def formatar_sentenca(arquivo):\n",
        "    #converte tudo para minusculo\n",
        "    arquivo = arquivo.lower()\n",
        "    # divide o arquivo por espaco\n",
        "    tokens = arquivo.split()\n",
        "    # remove a pontuacao de cada palavra\n",
        "    table = str.maketrans('', '', string.punctuation)\n",
        "    tokens = [w.translate(table) for w in tokens]\n",
        "    # remove tudo que nao for letra\n",
        "    tokens = [word for word in tokens if word.isalpha()]\n",
        "    # remove as \"stop words\"\n",
        "    stop_words = set(stopwords.words('portuguese'))\n",
        "    tokens = [w for w in tokens if not w in stop_words]\n",
        "    # transforma em root form as palavras, se necessario\n",
        "    tokens = [cogroo.lemmatize(p) for p in tokens]\n",
        "    # remove palavras com 2 letras ou menos\n",
        "    tokens = ({word: True for word in tokens if len(word) > 2})\n",
        "    \n",
        "    # retorna os tokens\n",
        "    return tokens\n",
        "\n",
        "f = open('Classificador-8464.pickle', 'rb')\n",
        "classifier = pickle.load(f)\n",
        "f.close()\n",
        "\n",
        "################################################################################################\n",
        "with open(\"frases-valid-positivo.txt\", encoding = \"utf8\") as f:\n",
        "    cont = 0\n",
        "    for i in f:\n",
        "        res = classifier.classify(formatar_sentenca(i))\n",
        "        print (res +  \":\" + str(classifier.prob_classify(formatar_sentenca(i)).prob(res)))\n",
        "        if (res == \"pos\"):\n",
        "            cont = cont + 1\n",
        "            \n",
        "with open(\"frases-valid-negativo.txt\", encoding = \"utf8\") as f:\n",
        "    contN = 0\n",
        "    for i in f:\n",
        "        resN = classifier.classify(formatar_sentenca(i))\n",
        "        # Exibi a porcentagem de acerto \n",
        "        # print (resN +  \":\" + str(classifier.prob_classify(formatar_sentenca(i)).prob(resN)))\n",
        "        if (resN == \"neg\"):\n",
        "            contN = contN + 1\n",
        "            \n",
        "print(str(cont) + \" Corretos, sendo \"  + str(cont * 100 / 50) + \" % de acertos positivos\")\n",
        "print(str(contN) + \" Corretos, sendo \"  + str(contN * 100 / 50) + \" % de acertos negativos\")\n",
        "\n",
        "classifier.show_most_informative_features(20)"
      ],
      "execution_count": null,
      "outputs": []
    }
  ]
}